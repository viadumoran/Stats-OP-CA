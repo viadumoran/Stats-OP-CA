{
 "cells": [
  {
   "cell_type": "code",
   "execution_count": 1,
   "id": "0334e844-d51a-4663-a111-b9dd73a28c09",
   "metadata": {},
   "outputs": [
    {
     "name": "stderr",
     "output_type": "stream",
     "text": [
      "Installing package into 'C:/Users/viadu/AppData/Local/R/win-library/4.4'\n",
      "(as 'lib' is unspecified)\n",
      "\n"
     ]
    },
    {
     "name": "stdout",
     "output_type": "stream",
     "text": [
      "package 'reshape2' successfully unpacked and MD5 sums checked\n",
      "\n",
      "The downloaded binary packages are in\n",
      "\tC:\\Users\\viadu\\AppData\\Local\\Temp\\RtmpKoU306\\downloaded_packages\n"
     ]
    }
   ],
   "source": [
    "install.packages(\"reshape2\", dependencies=TRUE)\n"
   ]
  },
  {
   "cell_type": "code",
   "execution_count": 2,
   "id": "7173f643-1cbe-4c90-8400-95d703f621dc",
   "metadata": {},
   "outputs": [
    {
     "name": "stderr",
     "output_type": "stream",
     "text": [
      "Warning message:\n",
      "\"package 'reshape2' was built under R version 4.4.3\"\n"
     ]
    }
   ],
   "source": [
    "library(reshape2)\n"
   ]
  },
  {
   "cell_type": "code",
   "execution_count": 3,
   "id": "e4052dec-9177-4187-8a83-8c216dcec090",
   "metadata": {},
   "outputs": [
    {
     "name": "stderr",
     "output_type": "stream",
     "text": [
      "Installing package into 'C:/Users/viadu/AppData/Local/R/win-library/4.4'\n",
      "(as 'lib' is unspecified)\n",
      "\n"
     ]
    },
    {
     "name": "stdout",
     "output_type": "stream",
     "text": [
      "package 'ggplot2' successfully unpacked and MD5 sums checked\n",
      "\n",
      "The downloaded binary packages are in\n",
      "\tC:\\Users\\viadu\\AppData\\Local\\Temp\\RtmpKoU306\\downloaded_packages\n"
     ]
    }
   ],
   "source": [
    "install.packages(\"ggplot2\", dependencies=TRUE)\n"
   ]
  },
  {
   "cell_type": "code",
   "execution_count": 4,
   "id": "90c4c3ee-b3f1-4dcb-97fb-f76248a257ca",
   "metadata": {},
   "outputs": [
    {
     "name": "stderr",
     "output_type": "stream",
     "text": [
      "Warning message:\n",
      "\"package 'ggplot2' was built under R version 4.4.3\"\n"
     ]
    }
   ],
   "source": [
    "library(ggplot2)\n"
   ]
  },
  {
   "cell_type": "code",
   "execution_count": 5,
   "id": "212a24d8-4963-4a78-a185-d256566f122d",
   "metadata": {},
   "outputs": [
    {
     "name": "stderr",
     "output_type": "stream",
     "text": [
      "Warning message:\n",
      "\"package 'dplyr' was built under R version 4.4.3\"\n",
      "\n",
      "Attaching package: 'dplyr'\n",
      "\n",
      "\n",
      "The following objects are masked from 'package:stats':\n",
      "\n",
      "    filter, lag\n",
      "\n",
      "\n",
      "The following objects are masked from 'package:base':\n",
      "\n",
      "    intersect, setdiff, setequal, union\n",
      "\n",
      "\n"
     ]
    }
   ],
   "source": [
    "# Load necessary library\n",
    "library(dplyr)"
   ]
  },
  {
   "cell_type": "markdown",
   "id": "64e79d66-87b4-40cd-816a-c17ed2fa9777",
   "metadata": {},
   "source": [
    "# Load Dataset"
   ]
  },
  {
   "cell_type": "code",
   "execution_count": null,
   "id": "349b08e8-34f3-41a5-930b-533ddb5d8bac",
   "metadata": {},
   "outputs": [],
   "source": [
    "df <- read.csv('hospitaldata.csv')"
   ]
  },
  {
   "cell_type": "code",
   "execution_count": null,
   "id": "96d93dba-1e1d-4ccd-aaea-e0648cf89539",
   "metadata": {
    "scrolled": true
   },
   "outputs": [],
   "source": [
    "head(df)"
   ]
  },
  {
   "cell_type": "code",
   "execution_count": null,
   "id": "cb377590-8e79-4e79-95f8-df0a792a0865",
   "metadata": {},
   "outputs": [],
   "source": [
    "nrow(df)"
   ]
  },
  {
   "cell_type": "markdown",
   "id": "9013bd2d-4683-47b0-84a2-5fc8654ac5c9",
   "metadata": {},
   "source": [
    "# Data Cleaning"
   ]
  },
  {
   "cell_type": "code",
   "execution_count": null,
   "id": "760cf883-15be-4b09-93fb-bab86807f9ea",
   "metadata": {},
   "outputs": [],
   "source": [
    "colnames(df)  # Check column names\n"
   ]
  },
  {
   "cell_type": "code",
   "execution_count": null,
   "id": "26196464-cfae-4a69-87fa-0b00c9a12ce6",
   "metadata": {},
   "outputs": [],
   "source": [
    "# Convert nominal categorical variables to factors\n",
    "nominal_vars <- c(\"gender\", \"race\", \"medical_specialty\", \"change\", \"diabetesMed\", \"discharge_disposition_id\", \"admission_source_id\")\n",
    "\n",
    "df[nominal_vars] <- lapply(df[nominal_vars], as.factor)\n",
    "str(df[nominal_vars])\n",
    "\n"
   ]
  },
  {
   "cell_type": "code",
   "execution_count": null,
   "id": "af99ba53-7da5-45db-aa43-ea0b684342a5",
   "metadata": {},
   "outputs": [],
   "source": [
    "levels(df$gender) # Check levels of each nominal variable\n",
    "levels(df$race)\n",
    "levels(df$medical_specialty)\n",
    "levels(df$change)\n",
    "levels(df$diabetesMed)\n",
    "levels(df$discharge_disposition_id)\n",
    "levels(df$admission_source_id)\n",
    "\n",
    "summary(df[nominal_vars]) # Summarize nominal variables"
   ]
  },
  {
   "cell_type": "code",
   "execution_count": null,
   "id": "43f65e6e-6879-4184-aeab-08ef20a80ec4",
   "metadata": {},
   "outputs": [],
   "source": [
    "# Reference for converting ordinal variables to ordered factors:\n",
    "# OARC Stats. (n.d.). Factor variables | R Learning Modules.\n",
    "# URL: https://stats.oarc.ucla.edu/r/modules/factor-variables/\n",
    "\n",
    "# Convert ordinal categorical variables to ordered factors\n",
    "df$age <- factor(df$age, levels = c(\"[0-10)\", \"[10-20)\", \"[20-30)\", \"[30-40)\", \n",
    "                                     \"[40-50)\", \"[50-60)\", \"[60-70)\", \"[70-80)\", \n",
    "                                     \"[80-90)\", \"[90-100)\"), ordered = TRUE)\n",
    "# Convert to ordered factors\n",
    "df$max_glu_serum <- factor(df$max_glu_serum, \n",
    "                             levels = c(\" None\", \"Norm\", \">200\", \">300\"), \n",
    "                             ordered = TRUE)\n",
    "\n",
    "df$A1Cresult <- factor(df$A1Cresult, \n",
    "                         levels = c(\" None\", \"Norm\", \">7\", \">8\"), \n",
    "                         ordered = TRUE)\n",
    "\n",
    "# Reference for processing multiple columns:\n",
    "# Bhalla, D. (2015). R: Converting Multiple Columns to Factor.\n",
    "# URL: https://www.listendata.com/2015/05/converting-multiple-numeric-variables.html\n",
    "# Assign all drugs to one variable drug_vars\n",
    "\n",
    "drug_vars <- c(\"metformin\", \"repaglinide\", \"nateglinide\", \"chlorpropamide\", \"glimepiride\", \"acetohexamide\", \"glipizide\", \"glyburide\", \"tolbutamide\", \"pioglitazone\", \"rosiglitazone\", \"acarbose\", \"miglitol\", \"troglitazone\", \"tolazamide\", \"examide\", \"citoglipton\", \"insulin\", \"glyburide_metformin\", \"glipizide_metformin\", \"glimepiride_pioglitazone\", \"metformin_pioglitazone\")\n",
    "df[drug_vars] <- lapply(df[drug_vars], function(x) {\n",
    "  x <- as.character(x)  # Ensure it's a character vector\n",
    "  x <- trimws(x)        # Trim leading/trailing spaces\n",
    "  x[!(x %in% c(\"No\", \"Steady\", \"Down\", \"Up\"))] <- NA  # Replace unexpected values with NA\n",
    "  factor(x, levels = c(\"No\", \"Steady\", \"Down\", \"Up\"), ordered = TRUE)\n",
    "})\n"
   ]
  },
  {
   "cell_type": "code",
   "execution_count": null,
   "id": "dfcfc51b-8f25-464a-9ade-f05c71bb25fc",
   "metadata": {},
   "outputs": [],
   "source": [
    "unique(unlist(df[drug_vars]))\n"
   ]
  },
  {
   "cell_type": "code",
   "execution_count": null,
   "id": "1db51033-5743-434f-8e07-0d04cad8090c",
   "metadata": {},
   "outputs": [],
   "source": [
    "unique(df$max_glu_serum)"
   ]
  },
  {
   "cell_type": "code",
   "execution_count": null,
   "id": "376da944-1344-4d9a-a1ad-26f0f2d5f467",
   "metadata": {},
   "outputs": [],
   "source": [
    "unique(df$A1Cresult)"
   ]
  },
  {
   "cell_type": "code",
   "execution_count": null,
   "id": "0e2c63a8-1371-418d-81d9-bc507a433e5b",
   "metadata": {},
   "outputs": [],
   "source": [
    "str(df$max_glu_serum)\n"
   ]
  },
  {
   "cell_type": "code",
   "execution_count": null,
   "id": "6a4a7157-c183-427d-a871-cbe26ab36fda",
   "metadata": {},
   "outputs": [],
   "source": [
    "# Check lab test factors\n",
    "str(df$A1Cresult)\n"
   ]
  },
  {
   "cell_type": "code",
   "execution_count": null,
   "id": "20cdbec7-a79b-4969-8ba0-576bb1c2e2c2",
   "metadata": {},
   "outputs": [],
   "source": [
    "# Check age factors\n",
    "str(df$age)"
   ]
  },
  {
   "cell_type": "code",
   "execution_count": null,
   "id": "7375acf9-023f-481f-88f7-1b8404429306",
   "metadata": {},
   "outputs": [],
   "source": [
    "# Check missing values\n",
    "colSums(is.na(df))"
   ]
  },
  {
   "cell_type": "code",
   "execution_count": null,
   "id": "29a32141-2631-4f7b-a0e8-f82404d7853b",
   "metadata": {},
   "outputs": [],
   "source": [
    "df$readmitted_binary <- ifelse(df$readmitted == \"No\", 0, 1) # Convert to binary for logistic regression\n",
    "df$readmitted_binary <- as.factor(df$readmitted_binary)  # Convert to factor"
   ]
  },
  {
   "cell_type": "code",
   "execution_count": null,
   "id": "8fd173ac-8b68-42fa-81d2-b8891fc1ffd6",
   "metadata": {},
   "outputs": [],
   "source": [
    "table(df$readmitted_binary)"
   ]
  },
  {
   "cell_type": "code",
   "execution_count": null,
   "id": "2c6e0e48-acce-46f8-9efd-7960c13960a9",
   "metadata": {},
   "outputs": [],
   "source": [
    "df$weight <- NULL # Drop weight column\n",
    "df$diag_2 <- NULL\n",
    "df$diag_3 <- NULL\n",
    "df$encounter_id <- NULL\n",
    "df$patient_nbr <- NULL\n",
    "df$drug_vars <- NULL"
   ]
  },
  {
   "cell_type": "code",
   "execution_count": null,
   "id": "3368c31c-b53a-4cad-acec-8f9e81993a86",
   "metadata": {},
   "outputs": [],
   "source": [
    "# Since most cases have missing HbA1C values\n",
    "# Merge Categories\n",
    "# Grouping A1Cresult values into a new variable A1C_Grouped using nested ifelse()\n",
    "# Reference: https://www.statology.org/ifelse-in-r/\n",
    "df$A1C_Grouped <- ifelse(df$A1Cresult == \" None\", \"Not Tested\",\n",
    "                         ifelse(df$A1Cresult %in% c(\">7\", \">8\"), \"High HbA1c\", \n",
    "                                ifelse(df$A1Cresult == \"Norm\", \"Normal\", NA)))"
   ]
  },
  {
   "cell_type": "code",
   "execution_count": null,
   "id": "c75331b8-7962-43da-9634-5f60d5854b4e",
   "metadata": {},
   "outputs": [],
   "source": [
    "class(df)"
   ]
  },
  {
   "cell_type": "markdown",
   "id": "78d8b5c3-1ca9-4ed7-a41c-c6def6a02d7a",
   "metadata": {},
   "source": [
    "# Exploratory Data Analysis"
   ]
  },
  {
   "cell_type": "code",
   "execution_count": null,
   "id": "fb49087f-70f7-41c6-8cbc-0ee71c68ad88",
   "metadata": {},
   "outputs": [],
   "source": [
    "# Summary of numerical columns\n",
    "summary(df)\n",
    "\n",
    "# Summary of categorical columns\n",
    "# summary(df[sapply(data, is.character)])"
   ]
  },
  {
   "cell_type": "code",
   "execution_count": null,
   "id": "0ee491f2-e7c2-43c8-a2ce-43c374faf0d5",
   "metadata": {},
   "outputs": [],
   "source": [
    "sapply(df[sapply(df, is.character)], unique)"
   ]
  },
  {
   "cell_type": "code",
   "execution_count": null,
   "id": "bc03ea88-afe9-492c-ba76-4ab5541902f5",
   "metadata": {},
   "outputs": [],
   "source": [
    "# This function was copied and adapted from Simmons Example provided by Christian Horn in \n",
    "# Statistics and Optimisation at NCI, 2025. \n",
    "# It generates a histogram with a normal distribution curve overlay.\n",
    "histogram <- function(x)\n",
    "{ \n",
    "    title <- paste(deparse(substitute(x), 500), collapse=\"\\n\") \n",
    "    sdx <- sd(x)\n",
    "    mx <- mean(x)\n",
    "    hist(x, prob=TRUE, \n",
    "         main=paste(\"Histogram of \",title),\n",
    "         xlim=c(mx-3*sdx, mx+3*sdx), ylim=c(0, 0.5/sdx))\n",
    "    curve(dnorm(x, mean=mx, sd=sdx), col='red', lwd=3, add=TRUE)\n",
    "} # pasted from simmons example"
   ]
  },
  {
   "cell_type": "code",
   "execution_count": null,
   "id": "2c3dbdf4-b6ba-498d-9888-bd6c685d7c25",
   "metadata": {},
   "outputs": [],
   "source": [
    "par(mfrow=c(2,2))\n",
    "# Histograms\n",
    "histogram(df$time_in_hospital)\n",
    "histogram(df$num_medications)\n",
    "histogram(df$num_lab_procedures)\n",
    "histogram(df$num_procedures)\n",
    "# Scatter Plots\n",
    "plot(readmitted_binary ~ time_in_hospital, df)\n",
    "plot(readmitted_binary ~ num_medications, df)\n",
    "plot(readmitted_binary ~ num_lab_procedures, df)\n",
    "plot(readmitted_binary ~ num_procedures, df)\n",
    "# Boxplots\n",
    "boxplot(time_in_hospital ~ readmitted_binary, df)\n",
    "boxplot(num_medications ~ readmitted_binary, df)"
   ]
  },
  {
   "cell_type": "code",
   "execution_count": null,
   "id": "392a2a10-8110-4290-aed4-412b3e316831",
   "metadata": {},
   "outputs": [],
   "source": [
    "boxplot(df$time_in_hospital, main=\"Time in Hospital (Outliers)\")\n",
    "boxplot(df$num_medications, main=\"Number of Medications (Outliers)\")\n"
   ]
  },
  {
   "cell_type": "code",
   "execution_count": null,
   "id": "dafcce7d-b648-4139-83bb-2754ba577c0d",
   "metadata": {},
   "outputs": [],
   "source": [
    "# Reference for summarizing categorical variables with frequency tables:\n",
    "# Nahhas, R. W. (n.d.). Categorical: Bar chart. In An Introduction to R for Research.\n",
    "# URL: https://bookdown.org/rwnahhas/IntroToR/categorical-bar-chart.html\n",
    "\n",
    "#categorical variables analysis\n",
    "table(df$race) #race analysis\n",
    "barplot(table(df$race), main=\"Race Distribution\")\n",
    "\n",
    "table(df$gender) #gender analysis\n",
    "barplot(table(df$gender), main=\"Gender Distribution\")\n",
    "\n",
    "table(df$age) #age analysis\n",
    "barplot(table(df$age), main=\"Age Distribution\")\n",
    "\n",
    "table(df$medical_specialty) #medical specialty analysis\n",
    "barplot(table(df$medical_specialty), main=\"Medical Specialty Distribution\")\n",
    "\n",
    "table(df$A1Cresult) #A1C analysis\n",
    "barplot(table(df$A1Cresult), main=\"A1Cresult Distribution\")\n",
    "\n",
    "\n",
    "table(df$A1C_Grouped) #Grouped A1C analysis\n",
    "barplot(table(df$A1C_Grouped), main=\"A1Cresult Grouped Distribution\")\n",
    "\n"
   ]
  },
  {
   "cell_type": "code",
   "execution_count": null,
   "id": "8d83f7c1-f0a7-4ad1-80e1-5bc1915d0a18",
   "metadata": {},
   "outputs": [],
   "source": [
    "# Selecting only numeric columns using dplyr's select_if(is.numeric)\n",
    "# Source: https://www.statology.org/dplyr-select-numeric-columns/\n",
    "\n",
    "# Calculating correlation matrix using base cor() function\n",
    "# Source: https://www.rdocumentation.org/packages/stats/topics/cor\n",
    "cor_matrix <- cor(df %>% select_if(is.numeric), use=\"complete.obs\")\n",
    "print(cor_matrix)"
   ]
  },
  {
   "cell_type": "code",
   "execution_count": null,
   "id": "ebddf4ed-9e32-4e45-9883-f72f542199f9",
   "metadata": {},
   "outputs": [],
   "source": [
    "names(data)"
   ]
  },
  {
   "cell_type": "code",
   "execution_count": null,
   "id": "f384f010-cb32-4d5a-a50a-ade43faeea7a",
   "metadata": {},
   "outputs": [],
   "source": [
    "# Code adapted from \"ggplot2: Quick correlation matrix heatmap - R software and data visualization\"\n",
    "# Source: https://www.sthda.com/english/wiki/ggplot2-quick-correlation-matrix-heatmap-r-software-and-data-visualization\n",
    "\n",
    "library(ggplot2)\n",
    "library(reshape2)\n",
    "\n",
    "melted_cor <- melt(cor_matrix)\n",
    "ggplot(data = melted_cor, aes(x=Var1, y=Var2, fill=value)) +\n",
    "  geom_tile() +\n",
    "  scale_fill_gradient2(low=\"blue\", high=\"red\", mid=\"white\", midpoint=0) +\n",
    "  theme_minimal() +\n",
    "  theme(axis.text.x = element_text(angle=90, hjust=1))"
   ]
  },
  {
   "cell_type": "code",
   "execution_count": null,
   "id": "e0ac7a87-a7a7-4f6b-9352-8221df1a5982",
   "metadata": {},
   "outputs": [],
   "source": [
    "# Code adapted from \"R Graphics Cookbook: Making a Proportional Stacked Bar Graph\"\n",
    "# Source: https://r-resources.massey.ac.nz/rgcookbook/RECIPE-BAR-GRAPH-PROPORTIONAL-STACKED-BAR.html\n",
    "library(ggplot2)\n",
    "ggplot(df, aes(x=age, fill=as.factor(readmitted_binary))) +\n",
    "  geom_bar(position=\"fill\") +\n",
    "  labs(title=\"Readmission Rate by Age Group\", y=\"Proportion\") # Readmission rate by Age\n",
    "\n",
    "ggplot(df, aes(x=gender, fill=as.factor(readmitted_binary))) +\n",
    "  geom_bar(position=\"fill\") +\n",
    "  labs(title=\"Readmission Rate by Gender\", y=\"Proportion\") # Readmission rate by Gender\n",
    "\n",
    "ggplot(df, aes(x=race, fill=as.factor(readmitted_binary))) +\n",
    "  geom_bar(position=\"fill\") +\n",
    "  labs(title=\"Readmission Rate by Race\", y=\"Proportion\") # Readmission rate by Race\n",
    "\n",
    "ggplot(df, aes(x=admission_source_id, fill=as.factor(readmitted_binary))) +\n",
    "  geom_bar(position=\"fill\") +\n",
    "  labs(title=\"Readmission Rate by Admission Type\", y=\"Proportion\") # Readmission rate by Admission Type\n",
    "\n",
    "ggplot(df, aes(x=medical_specialty, fill=as.factor(readmitted_binary))) +\n",
    "  geom_bar(position=\"fill\") +\n",
    "  labs(title=\"Readmission Rate by Medical Specialty\", y=\"Proportion\") #Readmission rate by Medical Specialty\n",
    "\n",
    "ggplot(df, aes(x=diabetesMed, fill=as.factor(readmitted_binary))) +\n",
    "  geom_bar(position=\"fill\") +\n",
    "  labs(title=\"Readmission Rate by Diabetes Medication\", y=\"Proportion\") #Readmission rate by Diabetes Medication\n",
    "\n",
    "ggplot(df, aes(x=A1Cresult, fill=as.factor(readmitted_binary))) +\n",
    "  geom_bar(position=\"fill\") +\n",
    "  labs(title=\"Readmission Rate by HbA1c Levels\", y=\"Proportion\")\n",
    "\n",
    "\n",
    "\n",
    "\n",
    "\n",
    "\n",
    "\n",
    "\n"
   ]
  },
  {
   "cell_type": "code",
   "execution_count": null,
   "id": "50df2a21-5411-40cc-bc8c-c38f41633bbb",
   "metadata": {},
   "outputs": [],
   "source": [
    "#primary_diagnosis\n",
    "\n",
    "unique(df$diag_1)\n",
    "\n"
   ]
  },
  {
   "cell_type": "markdown",
   "id": "2f6ceae7-f355-4f10-9cbe-84548966017f",
   "metadata": {},
   "source": [
    "# Logistic Regression"
   ]
  },
  {
   "cell_type": "code",
   "execution_count": null,
   "id": "8c6f1387-40db-4f9d-a361-505a95c3c6bd",
   "metadata": {},
   "outputs": [],
   "source": [
    "#Model WITH outliers included\n",
    "logistic_model <- glm(readmitted_binary ~ time_in_hospital + num_medications, \n",
    "                      data = df, family = binomial)\n",
    "summary(logistic_model)\n"
   ]
  },
  {
   "cell_type": "code",
   "execution_count": null,
   "id": "3ada81bf-b22b-46ca-b9a4-69a00028da45",
   "metadata": {},
   "outputs": [],
   "source": [
    "# Reference: Patil, P. (2023). Outlier Detection and Removal using the IQR Method.\n",
    "# URL: https://medium.com/@pp1222001/outlier-detection-and-removal-using-the-iqr-method-6fab2954315d\n",
    "\n",
    "#Remove outliers\n",
    "Q1_tih <- quantile(df$time_in_hospital, 0.25)\n",
    "Q3_tih <- quantile(df$time_in_hospital, 0.75)\n",
    "IQR_tih <- Q3_tih - Q1_tih\n",
    "upper_bound_tih <- Q3_tih + 1.5 * IQR_tih\n",
    "\n",
    "Q1_nm <- quantile(df$num_medications, 0.25)\n",
    "Q3_nm <- quantile(df$num_medications, 0.75)\n",
    "IQR_nm <- Q3_nm - Q1_nm\n",
    "upper_bound_nm <- Q3_nm + 1.5 * IQR_nm\n",
    "\n",
    "df_cleaned <- df %>% \n",
    "  filter(time_in_hospital <= upper_bound_tih, \n",
    "         num_medications <= upper_bound_nm)\n",
    "\n",
    "# Re-run logistic regression without extreme outliers\n",
    "logistic_model_cleaned <- glm(readmitted_binary ~ time_in_hospital + num_medications, \n",
    "                              data = df_cleaned, family = binomial)\n",
    "summary(logistic_model_cleaned)\n"
   ]
  },
  {
   "cell_type": "code",
   "execution_count": null,
   "id": "f1946ec5-a574-4529-881f-5da9a27441bf",
   "metadata": {},
   "outputs": [],
   "source": [
    "df$A1C_Grouped <- as.factor(df$A1C_Grouped)  # Ensure it's a factor\n",
    "\n",
    "logistic_model <- glm(readmitted_binary ~ time_in_hospital + num_medications + A1C_Grouped, # Use A1C_grouped for logistic regression\n",
    "                      data = df, family = binomial)\n",
    "\n",
    "summary(logistic_model)"
   ]
  },
  {
   "cell_type": "code",
   "execution_count": null,
   "id": "e4b07541-c1a2-4b9f-92e8-ddaa6ff12d7a",
   "metadata": {},
   "outputs": [],
   "source": [
    "# Reference for ICD-9 code categorization:\n",
    "# //en.wikipedia.org/wiki/List_of_ICD-9_codes\n",
    "# Code adopted using reference:\n",
    "# https://www.rdocumentation.org/packages/icd/versions/4.0.9\n",
    "\n",
    "# Reference for logistic regression with interaction terms:\n",
    "# Nahhas, R. W. (2023). Interactions in Logistic Regression.\n",
    "# URL: https://www.bookdown.org/rwnahhas/RMPH/blr-interaction.html\n",
    "# Convert diag_1 to numeric\n",
    "\n",
    "df$diag_1_num <- suppressWarnings(as.numeric(df$diag_1))\n",
    "\n",
    "df$primary_diagnosis <- ifelse(grepl(\"^250\", df$diag_1), \"Diabetes\",\n",
    "                         ifelse((df$diag_1_num >= 390 & df$diag_1_num <= 459) | df$diag_1_num == 785, \"Circulatory\",\n",
    "                         ifelse((df$diag_1_num >= 460 & df$diag_1_num <= 519) | df$diag_1_num == 786, \"Respiratory\",\n",
    "                         ifelse((df$diag_1_num >= 520 & df$diag_1_num <= 579) | df$diag_1_num == 787, \"Digestive\",\n",
    "                         ifelse((df$diag_1_num >= 800 & df$diag_1_num <= 999), \"Injury/Trauma\", \"Other\")))))\n",
    "\n",
    "df$primary_diagnosis <- as.factor(df$primary_diagnosis)\n",
    "\n",
    "\n",
    "logistic_model_int <- glm(readmitted_binary ~ time_in_hospital + num_medications + A1C_Grouped * primary_diagnosis, # Logistic model with interaction between A1C and primary diagnosis\n",
    "                      data = df, family = binomial)\n",
    "summary(logistic_model_int)\n",
    "\n",
    "\n"
   ]
  },
  {
   "cell_type": "code",
   "execution_count": null,
   "id": "d1803e87-7d26-43e7-ae06-4210aaf17ac5",
   "metadata": {},
   "outputs": [],
   "source": [
    "par(mfrow=c(2,2))\n",
    "plot(logistic_model_int)"
   ]
  },
  {
   "cell_type": "code",
   "execution_count": null,
   "id": "afc2cf50-96b1-4225-9f37-4b443794fe40",
   "metadata": {},
   "outputs": [],
   "source": [
    "logistic_model_poly <- glm(readmitted_binary ~ time_in_hospital + I(time_in_hospital^2) + # time_in_hospital and num_medicaations might have non-linear effects\n",
    "                           num_medications + I(num_medications^2) + \n",
    "                           A1C_Grouped * primary_diagnosis, \n",
    "                           data = df, family = binomial)\n",
    "summary(logistic_model_poly)\n",
    "AIC(logistic_model_poly)\n"
   ]
  },
  {
   "cell_type": "code",
   "execution_count": null,
   "id": "0c27e80f-1c50-40c2-8db4-2fdc9802d8b2",
   "metadata": {},
   "outputs": [],
   "source": [
    "par(mfrow=c(2,2))\n",
    "plot(logistic_model_poly)"
   ]
  },
  {
   "cell_type": "code",
   "execution_count": null,
   "id": "c27157dc-9cec-4330-a975-363573cb708d",
   "metadata": {},
   "outputs": [],
   "source": [
    "# Use Log transformation to handle non linearity\n",
    "df_cleaned$log_time_in_hospital <- log(df_cleaned$time_in_hospital + 1)\n",
    "df_cleaned$log_num_medications <- log(df_cleaned$num_medications + 1)\n"
   ]
  },
  {
   "cell_type": "code",
   "execution_count": null,
   "id": "2f1f268c-6221-4055-877f-fa892db685be",
   "metadata": {},
   "outputs": [],
   "source": [
    "# Reference: Thieme, C. (2020). Identifying Outliers in Linear Regression - Cook's Distance.\n",
    "# URL: https://rpubs.com/christianthieme/769935\n",
    "\n",
    "# Compute Cook's Distance\n",
    "cooksd <- cooks.distance(logistic_model_poly)\n",
    "\n",
    "# Identify influential points (Cook’s D > 4/N)\n",
    "influential_points <- as.numeric(names(cooksd[cooksd > (4 / nrow(df))]))\n",
    "\n",
    "# Remove them from the dataset\n",
    "df_cleaned <- df[-influential_points, ]\n"
   ]
  },
  {
   "cell_type": "code",
   "execution_count": null,
   "id": "2254a037-7232-4eeb-bc0c-7c1e2cd93df3",
   "metadata": {},
   "outputs": [],
   "source": [
    "dim(df_cleaned)"
   ]
  },
  {
   "cell_type": "code",
   "execution_count": null,
   "id": "1ac2b8e3-562b-48d0-9d39-821adbf34c6c",
   "metadata": {},
   "outputs": [],
   "source": [
    "logistic_model_poly_cleaned <- glm(readmitted_binary ~ log_time_in_hospital + \n",
    "                           I(log_time_in_hospital^2) +\n",
    "                           log_num_medications + I(log_num_medications^2) + \n",
    "                           A1C_Grouped * primary_diagnosis, \n",
    "                           data = df_cleaned, family = binomial)\n",
    "\n",
    "summary(logistic_model_poly_cleaned)\n",
    "AIC(logistic_model_poly_cleaned)\n"
   ]
  },
  {
   "cell_type": "code",
   "execution_count": null,
   "id": "e71db276-bcd1-46f3-a29a-ac5f102de14a",
   "metadata": {},
   "outputs": [],
   "source": [
    "par(mfrow=c(2,2))\n",
    "plot(logistic_model_poly_cleaned)"
   ]
  },
  {
   "cell_type": "code",
   "execution_count": null,
   "id": "e97d415a-29eb-44fc-831e-a722822a77c0",
   "metadata": {},
   "outputs": [],
   "source": [
    "# Reference: Thieme, C. (2020). Identifying Outliers in Linear Regression - Cook's Distance.\n",
    "# URL: https://rpubs.com/christianthieme/769935\n",
    "# Step 1: Fit the initial model with interactions and polynomial terms\n",
    "logistic_model_initial <- glm(readmitted_binary ~ log_time_in_hospital + \n",
    "                               I(log_time_in_hospital^2) +\n",
    "                               log_num_medications + I(log_num_medications^2) + \n",
    "                               A1C_Grouped * primary_diagnosis, \n",
    "                               data = df_cleaned, family = binomial)\n",
    "\n",
    "# Step 2: Compute Cook's Distance\n",
    "cooksd <- cooks.distance(logistic_model_initial)\n",
    "\n",
    "# Step 3: Identify high-leverage points (Cook’s D > 4/n)\n",
    "threshold <- 4 / nrow(df_cleaned)\n",
    "high_leverage_points <- which(cooksd > threshold)\n",
    "\n",
    "# Step 4: Remove influential points from the data\n",
    "df_final <- df_cleaned[-high_leverage_points, ]\n",
    "\n",
    "# Step 5: Refit the model on the filtered data\n",
    "logistic_model_poly_final <- glm(readmitted_binary ~ log_time_in_hospital + \n",
    "                                  I(log_time_in_hospital^2) +\n",
    "                                  log_num_medications + I(log_num_medications^2) + \n",
    "                                  A1C_Grouped * primary_diagnosis, \n",
    "                                  data = df_final, family = binomial)\n",
    "\n",
    "# Step 6: View model summary and AIC\n",
    "summary(logistic_model_poly_final)\n",
    "AIC(logistic_model_poly_final)\n",
    "\n",
    "\n"
   ]
  },
  {
   "cell_type": "code",
   "execution_count": null,
   "id": "35b8eaf7-5d27-4bae-988c-38d1e16defb7",
   "metadata": {},
   "outputs": [],
   "source": [
    "par(mfrow=c(2,2))\n",
    "plot(logistic_model_poly_final)"
   ]
  },
  {
   "cell_type": "code",
   "execution_count": null,
   "id": "483dfd45-f90e-46e2-ab87-165bb7c25868",
   "metadata": {},
   "outputs": [],
   "source": [
    "pred_probs <- predict(logistic_model_poly_final, newdata = df_final, type = \"response\")\n"
   ]
  },
  {
   "cell_type": "code",
   "execution_count": null,
   "id": "185b66c7-8d90-4372-9331-9af65277fb09",
   "metadata": {},
   "outputs": [],
   "source": [
    "pred_class <- ifelse(pred_probs > 0.5, 1, 0)\n"
   ]
  },
  {
   "cell_type": "code",
   "execution_count": null,
   "id": "7479d9c9-64e7-43de-9b7a-7a8f4b1bfacb",
   "metadata": {},
   "outputs": [],
   "source": [
    "table(Predicted = pred_class, Actual = df_final$readmitted_binary)\n",
    "\n"
   ]
  },
  {
   "cell_type": "code",
   "execution_count": null,
   "id": "ab5d5516-d0d4-466f-8aae-ddf1704e76e6",
   "metadata": {},
   "outputs": [],
   "source": [
    "conf_mat <- table(Predicted = pred_class, Actual = df_final$readmitted_binary)\n",
    "accuracy <- sum(diag(conf_mat)) / sum(conf_mat)\n",
    "print(accuracy)\n"
   ]
  }
 ],
 "metadata": {
  "kernelspec": {
   "display_name": "R",
   "language": "R",
   "name": "ir"
  },
  "language_info": {
   "codemirror_mode": "r",
   "file_extension": ".r",
   "mimetype": "text/x-r-source",
   "name": "R",
   "pygments_lexer": "r",
   "version": "4.4.2"
  }
 },
 "nbformat": 4,
 "nbformat_minor": 5
}
